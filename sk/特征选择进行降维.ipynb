{
 "cells": [
  {
   "cell_type": "code",
   "execution_count": 1,
   "metadata": {
    "collapsed": true
   },
   "outputs": [],
   "source": [
    "from sklearn import datasets\n",
    "from sklearn.feature_selection import VarianceThreshold"
   ]
  },
  {
   "cell_type": "code",
   "execution_count": 10,
   "metadata": {},
   "outputs": [
    {
     "data": {
      "text/plain": [
       "array([[ 5.1,  1.4,  0.2],\n",
       "       [ 4.9,  1.4,  0.2],\n",
       "       [ 4.7,  1.3,  0.2]])"
      ]
     },
     "execution_count": 10,
     "metadata": {},
     "output_type": "execute_result"
    }
   ],
   "source": [
    "# 数值型特征方差阈值化\n",
    "'''\n",
    "依据是方差小的信息要比方差大的信息包含更少，所以选择过滤阈值一下的方差\n",
    "\n",
    " tips: 如果数据集已经进行了标准化，那么这个方法不会有效。标准化后方差全部都是1无法区分\n",
    "'''\n",
    "iris = datasets.load_iris()\n",
    "\n",
    "features = iris.data\n",
    "target = iris.target\n",
    "\n",
    "# 创建VarianceThreshold对象\n",
    "threshold = VarianceThreshold(threshold=.5)\n",
    "features_high_variance = threshold.fit_transform(features)\n",
    "\n",
    "features_high_variance[0:3]"
   ]
  },
  {
   "cell_type": "code",
   "execution_count": 12,
   "metadata": {},
   "outputs": [
    {
     "data": {
      "text/plain": [
       "array([ 1.,  1.,  1.,  1.])"
      ]
     },
     "execution_count": 12,
     "metadata": {},
     "output_type": "execute_result"
    }
   ],
   "source": [
    "# 显示方差\n",
    "threshold.fit(features).variances_\n",
    "\n",
    "# 标准化后无法进行区分\n",
    "from sklearn.preprocessing import StandardScaler\n",
    "scaler = StandardScaler()\n",
    "features_std = scaler.fit_transform(features)\n",
    "\n",
    "selector = VarianceThreshold()\n",
    "selector.fit(features_std).variances_"
   ]
  },
  {
   "cell_type": "code",
   "execution_count": 13,
   "metadata": {},
   "outputs": [
    {
     "data": {
      "text/plain": [
       "array([[0],\n",
       "       [1],\n",
       "       [0],\n",
       "       [1],\n",
       "       [0]])"
      ]
     },
     "execution_count": 13,
     "metadata": {},
     "output_type": "execute_result"
    }
   ],
   "source": [
    "# 二值特征的方差阈值化\n",
    "\n",
    "# 特征信息如下\n",
    "# 0  : 80% 分类为0\n",
    "# 1 : 80% 分类为1\n",
    "# 2 : 60% 分类为0， 40% 为1\n",
    "features = [[0,1,0],\n",
    "           [0,1,1],\n",
    "           [0,1,0],\n",
    "           [0,1,1],\n",
    "           [1,0,0]]\n",
    "\n",
    "threshold = VarianceThreshold(threshold=(.75 * (1-.75) ) )\n",
    "threshold.fit_transform(features)and\n",
    "\n",
    "'''\n",
    "二项分布方差公式如下\n",
    "var(x) = p(1-p)\n",
    "设置 p的值可以删除大部分观察属于同一个类型的特征\n",
    "'''"
   ]
  },
  {
   "cell_type": "code",
   "execution_count": 11,
   "metadata": {},
   "outputs": [
    {
     "data": {
      "text/html": [
       "<div>\n",
       "<style>\n",
       "    .dataframe thead tr:only-child th {\n",
       "        text-align: right;\n",
       "    }\n",
       "\n",
       "    .dataframe thead th {\n",
       "        text-align: left;\n",
       "    }\n",
       "\n",
       "    .dataframe tbody tr th {\n",
       "        vertical-align: top;\n",
       "    }\n",
       "</style>\n",
       "<table border=\"1\" class=\"dataframe\">\n",
       "  <thead>\n",
       "    <tr style=\"text-align: right;\">\n",
       "      <th></th>\n",
       "      <th>0</th>\n",
       "      <th>2</th>\n",
       "    </tr>\n",
       "  </thead>\n",
       "  <tbody>\n",
       "    <tr>\n",
       "      <th>0</th>\n",
       "      <td>1</td>\n",
       "      <td>1</td>\n",
       "    </tr>\n",
       "    <tr>\n",
       "      <th>1</th>\n",
       "      <td>2</td>\n",
       "      <td>0</td>\n",
       "    </tr>\n",
       "    <tr>\n",
       "      <th>2</th>\n",
       "      <td>3</td>\n",
       "      <td>1</td>\n",
       "    </tr>\n",
       "  </tbody>\n",
       "</table>\n",
       "</div>"
      ],
      "text/plain": [
       "   0  2\n",
       "0  1  1\n",
       "1  2  0\n",
       "2  3  1"
      ]
     },
     "execution_count": 11,
     "metadata": {},
     "output_type": "execute_result"
    }
   ],
   "source": [
    "#处理高度相关特征\n",
    "\n",
    "import numpy as np\n",
    "import pandas as pd\n",
    "\n",
    "features = np.array([[1,1,1],\n",
    "                    [2,2,0],\n",
    "                    [3,3,1],\n",
    "                    [4,4,0],\n",
    "                    [5,5,1],\n",
    "                    [6,6,0],\n",
    "                    [7,7,1],\n",
    "                    [8,7,0],\n",
    "                    [9,7,1]])\n",
    "dataframe = pd.DataFrame(features)\n",
    "# 创建矩阵   corr()表示特征之间相关系数   abs()取绝对值 \n",
    "corr_matrix = dataframe.corr().abs()\n",
    "# 选择矩阵的上三角\n",
    "upper = corr_matrix.where(np.triu(np.ones(corr_matrix.shape), k=1).astype(np.bool))\n",
    "# 找到相关性大于 0.95的特征\n",
    "to_drop = [column for column in upper.columns if any(upper[column]> 0.95)]\n",
    "\n",
    "# 删除特征\n",
    "dataframe.drop(dataframe.columns[to_drop], axis=1).head(3)"
   ]
  },
  {
   "cell_type": "code",
   "execution_count": 10,
   "metadata": {},
   "outputs": [
    {
     "data": {
      "text/plain": [
       "[1]"
      ]
     },
     "execution_count": 10,
     "metadata": {},
     "output_type": "execute_result"
    }
   ],
   "source": [
    "to_drop"
   ]
  },
  {
   "cell_type": "code",
   "execution_count": 13,
   "metadata": {},
   "outputs": [
    {
     "name": "stdout",
     "output_type": "stream",
     "text": [
      "original: 4\n",
      "reduce: 2\n"
     ]
    }
   ],
   "source": [
    "# 删除与分类任务不相关的特征\n",
    "'''\n",
    "对于分类型特征，计算每个特征和目标向量的卡方效验\n",
    "'''\n",
    "from sklearn.feature_selection import SelectKBest\n",
    "from sklearn.feature_selection import chi2,f_classif\n",
    "\n",
    "iris = datasets.load_iris()\n",
    "features = iris.data\n",
    "target = iris.target\n",
    "\n",
    "# 将分类数据转换成整数\n",
    "features = features.astype(int)\n",
    "\n",
    "# 选择卡方效验统计量最大的2个特征\n",
    "chi2_selector = SelectKBest(chi2, k=2)\n",
    "features_kbest = chi2_selector.fit_transform(features, target)\n",
    "\n",
    "print('original:', features.shape[1])\n",
    "print('reduce:', features_kbest.shape[1])"
   ]
  },
  {
   "cell_type": "code",
   "execution_count": 14,
   "metadata": {},
   "outputs": [
    {
     "name": "stdout",
     "output_type": "stream",
     "text": [
      "original: 4\n",
      "reduce: 2\n"
     ]
    }
   ],
   "source": [
    "'''\n",
    "对于数值型特征，计算每个特征和目标向量的方差分析F值\n",
    "'''\n",
    "fvalue_selector = SelectKBest(f_classif, k=2)\n",
    "features_kbest = fvalue_selector.fit_transform(features, target)\n",
    "\n",
    "print('original:', features.shape[1])\n",
    "print('reduce:', features_kbest.shape[1])"
   ]
  },
  {
   "cell_type": "code",
   "execution_count": 15,
   "metadata": {},
   "outputs": [
    {
     "name": "stdout",
     "output_type": "stream",
     "text": [
      "original: 4\n",
      "reduce: 3\n"
     ]
    }
   ],
   "source": [
    "'''\n",
    "可以通过SelectPercentile方法来选择前面n% 的数据\n",
    "'''\n",
    "from sklearn.feature_selection import SelectPercentile\n",
    "\n",
    "# 选取前75%的特征\n",
    "fvalue_selector = SelectPercentile(f_classif, percentile=75)\n",
    "features_kbest = fvalue_selector.fit_transform(features, target)\n",
    "\n",
    "print('original:', features.shape[1])\n",
    "print('reduce:', features_kbest.shape[1])"
   ]
  },
  {
   "cell_type": "code",
   "execution_count": 20,
   "metadata": {},
   "outputs": [
    {
     "data": {
      "text/plain": [
       "array([[ 0.00850799, -0.7599597 ,  0.7031277 ],\n",
       "       [-1.07500204, -0.03209062,  2.56148527],\n",
       "       [ 1.37940721,  1.01718553, -1.77039484],\n",
       "       ..., \n",
       "       [-0.80331656,  0.01438775, -1.60648007],\n",
       "       [ 0.39508844,  0.6361969 , -1.34564911],\n",
       "       [-0.55383035,  1.77013672,  0.82880112]])"
      ]
     },
     "execution_count": 20,
     "metadata": {},
     "output_type": "execute_result"
    }
   ],
   "source": [
    "# 递归式特征消除\n",
    "import warnings\n",
    "from sklearn.feature_selection import RFECV\n",
    "from sklearn import linear_model\n",
    "\n",
    "warnings.filterwarnings(action='ignore', module='scipy', message='^internal gelsd')\n",
    "\n",
    "# 生成特征矩阵，目标向量\n",
    "features,target = datasets.make_regression(n_samples= 10000,\n",
    "                                          n_features=100,\n",
    "                                          n_informative=2,\n",
    "                                          random_state = 1)\n",
    "\n",
    "# 创建线性回归\n",
    "ols = linear_model.LinearRegression()\n",
    "\n",
    "# 递归消除特征\n",
    "rfecv = RFECV(estimator=ols, step=1, scoring='neg_mean_squared_error')\n",
    "rfecv.fit(features, target)\n",
    "rfecv.transform(features)"
   ]
  },
  {
   "cell_type": "code",
   "execution_count": 21,
   "metadata": {},
   "outputs": [
    {
     "data": {
      "text/plain": [
       "3"
      ]
     },
     "execution_count": 21,
     "metadata": {},
     "output_type": "execute_result"
    }
   ],
   "source": [
    "# 查看优秀特征数\n",
    "rfecv.n_features_"
   ]
  },
  {
   "cell_type": "code",
   "execution_count": 22,
   "metadata": {},
   "outputs": [
    {
     "data": {
      "text/plain": [
       "array([False, False, False, False, False,  True, False, False, False,\n",
       "       False, False, False, False, False, False, False, False, False,\n",
       "       False, False, False, False, False,  True, False, False, False,\n",
       "       False, False, False, False, False, False, False, False, False,\n",
       "       False, False, False,  True, False, False, False, False, False,\n",
       "       False, False, False, False, False, False, False, False, False,\n",
       "       False, False, False, False, False, False, False, False, False,\n",
       "       False, False, False, False, False, False, False, False, False,\n",
       "       False, False, False, False, False, False, False, False, False,\n",
       "       False, False, False, False, False, False, False, False, False,\n",
       "       False, False, False, False, False, False, False, False, False, False], dtype=bool)"
      ]
     },
     "execution_count": 22,
     "metadata": {},
     "output_type": "execute_result"
    }
   ],
   "source": [
    "# 查看特征\n",
    "rfecv.support_"
   ]
  },
  {
   "cell_type": "code",
   "execution_count": 23,
   "metadata": {},
   "outputs": [
    {
     "data": {
      "text/plain": [
       "array([ 2, 77, 69, 38, 39,  1, 26, 67,  7, 50, 70,  8, 89, 64,  4, 80, 43,\n",
       "       83, 41, 56, 19, 23, 49,  1, 46, 20, 93, 53, 36, 25, 32, 27, 24, 75,\n",
       "       15, 12, 34, 72, 14,  1, 66, 68, 97, 90, 18, 81, 60, 71, 54, 87, 92,\n",
       "       82,  3, 40, 35, 16, 59, 47, 51, 79, 28, 84, 73, 86, 98,  9, 88, 63,\n",
       "       65, 62, 42,  6, 17, 58, 10, 22, 78, 37, 91, 31, 44, 33,  5, 52, 48,\n",
       "       95, 21, 45, 30, 29, 55, 11, 57, 61, 94, 85, 74, 13, 76, 96])"
      ]
     },
     "execution_count": 23,
     "metadata": {},
     "output_type": "execute_result"
    }
   ],
   "source": [
    "# 查看特征排名  1-最后   优 - 差\n",
    "rfecv.ranking_"
   ]
  },
  {
   "cell_type": "code",
   "execution_count": null,
   "metadata": {
    "collapsed": true
   },
   "outputs": [],
   "source": []
  }
 ],
 "metadata": {
  "kernelspec": {
   "display_name": "Python 3",
   "language": "python",
   "name": "python3"
  },
  "language_info": {
   "codemirror_mode": {
    "name": "ipython",
    "version": 3
   },
   "file_extension": ".py",
   "mimetype": "text/x-python",
   "name": "python",
   "nbconvert_exporter": "python",
   "pygments_lexer": "ipython3",
   "version": "3.6.2"
  }
 },
 "nbformat": 4,
 "nbformat_minor": 2
}
