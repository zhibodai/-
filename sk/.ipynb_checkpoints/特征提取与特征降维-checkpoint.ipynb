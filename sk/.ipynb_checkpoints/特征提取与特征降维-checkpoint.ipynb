{
 "cells": [
  {
   "cell_type": "code",
   "execution_count": 1,
   "metadata": {
    "collapsed": true
   },
   "outputs": [],
   "source": [
    "from sklearn.preprocessing import StandardScaler\n",
    "from sklearn.decomposition import PCA\n",
    "from sklearn import datasets\n",
    "\n",
    "digits = datasets.load_digits()"
   ]
  },
  {
   "cell_type": "code",
   "execution_count": 2,
   "metadata": {},
   "outputs": [
    {
     "name": "stdout",
     "output_type": "stream",
     "text": [
      "Original: 64\n",
      "Reduced: 54\n"
     ]
    }
   ],
   "source": [
    "features = StandardScaler().fit_transform(digits.data)\n",
    "\n",
    "# 创建保留 99% 的信息的PCA\n",
    "pca = PCA(n_components=0.99, whiten=True)\n",
    "\n",
    "features_pca = pca.fit_transform(features)\n",
    "\n",
    "# 显示结果\n",
    "print('Original:', features.shape[1])\n",
    "print('Reduced:', features_pca.shape[1])\n"
   ]
  },
  {
   "cell_type": "code",
   "execution_count": 3,
   "metadata": {},
   "outputs": [
    {
     "name": "stdout",
     "output_type": "stream",
     "text": [
      "Original: 2\n",
      "Reduced: 1\n"
     ]
    }
   ],
   "source": [
    "# 对线性不可分数据进行特征降维\n",
    "from sklearn.decomposition import PCA, KernelPCA\n",
    "from sklearn.datasets import make_circles\n",
    "\n",
    "# 创建线性不可分数据\n",
    "features,_ = make_circles(n_samples=1000, random_state=1, noise=0.1, factor=0.1)\n",
    "\n",
    "# 核PCA算法\n",
    "kpca = KernelPCA(kernel='rbf', gamma=15, n_components=1)\n",
    "features_kpca = kpca.fit_transform(features)\n",
    "\n",
    "print('Original:', features.shape[1])\n",
    "print('Reduced:', features_kpca.shape[1])"
   ]
  },
  {
   "cell_type": "code",
   "execution_count": 7,
   "metadata": {},
   "outputs": [
    {
     "name": "stdout",
     "output_type": "stream",
     "text": [
      "Original: 4\n",
      "Reduced: 1\n"
     ]
    }
   ],
   "source": [
    "# 最大化类间可分性进行特征降维\n",
    "\n",
    "'''\n",
    "lda 一种特征抽取的手段将每种数据中心在某个维度上进行映射\n",
    "    每种数据的中心需要相距较远，而每个中心与其对应的数据集又要距离较近，这样才能区分不同类型数据\n",
    "\n",
    "'''\n",
    "from sklearn.discriminant_analysis import LinearDiscriminantAnalysis\n",
    "\n",
    "iris = datasets.load_iris()\n",
    "features = iris.data\n",
    "target = iris.target\n",
    "\n",
    "# 创建并运行LDA 然后用他来进行特征变换\n",
    "lda = LinearDiscriminantAnalysis(n_components=1)\n",
    "features_lda = lda.fit(features, target).transform(features)\n",
    "\n",
    "print('Original:', features.shape[1])\n",
    "print('Reduced:', features_lda.shape[1])"
   ]
  },
  {
   "cell_type": "code",
   "execution_count": 5,
   "metadata": {},
   "outputs": [
    {
     "data": {
      "text/plain": [
       "array([ 0.99147248])"
      ]
     },
     "execution_count": 5,
     "metadata": {},
     "output_type": "execute_result"
    }
   ],
   "source": [
    "# 查看数据保留情况\n",
    "lda.explained_variance_ratio_"
   ]
  },
  {
   "cell_type": "code",
   "execution_count": 6,
   "metadata": {},
   "outputs": [
    {
     "data": {
      "text/plain": [
       "1"
      ]
     },
     "execution_count": 6,
     "metadata": {},
     "output_type": "execute_result"
    }
   ],
   "source": [
    "lda = LinearDiscriminantAnalysis(n_components=None)\n",
    "features_lda = lda.fit(features, target)\n",
    "\n",
    "# 获取方差的百分比的数组\n",
    "lda_var_ratios = lda.explained_variance_ratio_\n",
    "\n",
    "# 函数\n",
    "def select_n_components(var_ratio, goal_var: float)-> int:\n",
    "    # 设置总方差的初始值\n",
    "    total_variance = 0.0\n",
    "    # 设置特征数量的初始值\n",
    "    n_components = 0\n",
    "    # 遍历方差百分比数组的元素\n",
    "    for explained_variance in var_ratio:\n",
    "        # 将该百分比加入总方差\n",
    "        total_variance += explained_variance\n",
    "        \n",
    "        # n_components 加1\n",
    "        n_components += 1\n",
    "        \n",
    "        # 如果达到目标值阈值结束\n",
    "        if total_variance >= goal_var:\n",
    "            break\n",
    "    return n_components\n",
    "\n",
    "select_n_components(lda_var_ratios, 0.95)"
   ]
  },
  {
   "cell_type": "code",
   "execution_count": 8,
   "metadata": {},
   "outputs": [
    {
     "name": "stdout",
     "output_type": "stream",
     "text": [
      "Original: 64\n",
      "Reduced: 10\n"
     ]
    }
   ],
   "source": [
    "# 使用矩阵分解法进行特征降维\n",
    "\n",
    "'''\n",
    "NMF 无负矩阵分解法 将矩阵进行拆分后认为拆分的矩阵在特征数量上会进行减少\n",
    "'''\n",
    "from sklearn.decomposition import NMF\n",
    "\n",
    "features = digits.data\n",
    "\n",
    "nmf = NMF(n_components=10, random_state=1)\n",
    "features_nmf = nmf.fit_transform(features)\n",
    "\n",
    "print('Original:', features.shape[1])\n",
    "print('Reduced:', features_nmf.shape[1])"
   ]
  },
  {
   "cell_type": "code",
   "execution_count": 9,
   "metadata": {},
   "outputs": [
    {
     "name": "stdout",
     "output_type": "stream",
     "text": [
      "Original: 64\n",
      "Reduced: 10\n"
     ]
    }
   ],
   "source": [
    "# 对稀疏数据进行特征降维\n",
    "from sklearn.decomposition import TruncatedSVD\n",
    "from scipy.sparse import csr_matrix\n",
    "import numpy as np\n",
    "\n",
    "features = StandardScaler().fit_transform(digits.data)\n",
    "\n",
    "features_spares = csr_matrix(features)\n",
    "\n",
    "# 创建tsvd\n",
    "tsvd = TruncatedSVD(n_components=10)\n",
    "\n",
    "features_sparse_tsvd = tsvd.fit_transform(features_spares)\n",
    "\n",
    "print('Original:', features_spares.shape[1])\n",
    "print('Reduced:', features_sparse_tsvd.shape[1])"
   ]
  },
  {
   "cell_type": "code",
   "execution_count": null,
   "metadata": {
    "collapsed": true
   },
   "outputs": [],
   "source": []
  }
 ],
 "metadata": {
  "kernelspec": {
   "display_name": "Python 3",
   "language": "python",
   "name": "python3"
  },
  "language_info": {
   "codemirror_mode": {
    "name": "ipython",
    "version": 3
   },
   "file_extension": ".py",
   "mimetype": "text/x-python",
   "name": "python",
   "nbconvert_exporter": "python",
   "pygments_lexer": "ipython3",
   "version": "3.6.2"
  }
 },
 "nbformat": 4,
 "nbformat_minor": 2
}
